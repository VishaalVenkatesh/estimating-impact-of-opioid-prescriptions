{
 "cells": [
  {
   "cell_type": "code",
   "execution_count": 322,
   "metadata": {},
   "outputs": [],
   "source": [
    "import pandas as pd\n",
    "import numpy as np\n",
    "from plotnine import *"
   ]
  },
  {
   "cell_type": "markdown",
   "metadata": {},
   "source": [
    "1. merging 10 US vital data sets and cleaning"
   ]
  },
  {
   "cell_type": "code",
   "execution_count": 323,
   "metadata": {},
   "outputs": [],
   "source": [
    "df1 = pd.read_csv(\"Underlying Cause of Death, 2006.txt\",  delimiter=\"\\t\")\n",
    "df2 = pd.read_csv(\"Underlying Cause of Death, 2007.txt\",  delimiter=\"\\t\")\n",
    "df3 = pd.read_csv(\"Underlying Cause of Death, 2008.txt\",  delimiter=\"\\t\")\n",
    "df4 = pd.read_csv(\"Underlying Cause of Death, 2009.txt\",  delimiter=\"\\t\")\n",
    "df5 = pd.read_csv(\"Underlying Cause of Death, 2010.txt\",  delimiter=\"\\t\")\n",
    "df6 = pd.read_csv(\"Underlying Cause of Death, 2011.txt\",  delimiter=\"\\t\")\n",
    "df7 = pd.read_csv(\"Underlying Cause of Death, 2012.txt\",  delimiter=\"\\t\")\n",
    "df8 = pd.read_csv(\"Underlying Cause of Death, 2013.txt\",  delimiter=\"\\t\")\n",
    "df9 = pd.read_csv(\"Underlying Cause of Death, 2014.txt\",  delimiter=\"\\t\")\n",
    "df10 = pd.read_csv(\"Underlying Cause of Death, 2015.txt\",  delimiter=\"\\t\")"
   ]
  },
  {
   "cell_type": "code",
   "execution_count": 324,
   "metadata": {},
   "outputs": [],
   "source": [
    "# merging 10 data sets\n",
    "\n",
    "df=[df1,df2,df3, df4, df5, df6, df7, df8, df9, df10]\n",
    "df_new=pd.concat(df)"
   ]
  },
  {
   "cell_type": "code",
   "execution_count": 325,
   "metadata": {},
   "outputs": [
    {
     "data": {
      "text/html": [
       "<div>\n",
       "<style scoped>\n",
       "    .dataframe tbody tr th:only-of-type {\n",
       "        vertical-align: middle;\n",
       "    }\n",
       "\n",
       "    .dataframe tbody tr th {\n",
       "        vertical-align: top;\n",
       "    }\n",
       "\n",
       "    .dataframe thead th {\n",
       "        text-align: right;\n",
       "    }\n",
       "</style>\n",
       "<table border=\"1\" class=\"dataframe\">\n",
       "  <thead>\n",
       "    <tr style=\"text-align: right;\">\n",
       "      <th></th>\n",
       "      <th>Notes</th>\n",
       "      <th>County</th>\n",
       "      <th>County Code</th>\n",
       "      <th>Year</th>\n",
       "      <th>Year Code</th>\n",
       "      <th>Drug/Alcohol Induced Cause</th>\n",
       "      <th>Drug/Alcohol Induced Cause Code</th>\n",
       "      <th>Deaths</th>\n",
       "    </tr>\n",
       "  </thead>\n",
       "  <tbody>\n",
       "    <tr>\n",
       "      <td>0</td>\n",
       "      <td>NaN</td>\n",
       "      <td>Autauga County, AL</td>\n",
       "      <td>1001.0</td>\n",
       "      <td>2006.0</td>\n",
       "      <td>2006.0</td>\n",
       "      <td>All other non-drug and non-alcohol causes</td>\n",
       "      <td>O9</td>\n",
       "      <td>449</td>\n",
       "    </tr>\n",
       "    <tr>\n",
       "      <td>1</td>\n",
       "      <td>NaN</td>\n",
       "      <td>Baldwin County, AL</td>\n",
       "      <td>1003.0</td>\n",
       "      <td>2006.0</td>\n",
       "      <td>2006.0</td>\n",
       "      <td>Drug poisonings (overdose) Unintentional (X40-...</td>\n",
       "      <td>D1</td>\n",
       "      <td>11</td>\n",
       "    </tr>\n",
       "    <tr>\n",
       "      <td>2</td>\n",
       "      <td>NaN</td>\n",
       "      <td>Baldwin County, AL</td>\n",
       "      <td>1003.0</td>\n",
       "      <td>2006.0</td>\n",
       "      <td>2006.0</td>\n",
       "      <td>All other alcohol-induced causes</td>\n",
       "      <td>A9</td>\n",
       "      <td>15</td>\n",
       "    </tr>\n",
       "    <tr>\n",
       "      <td>3</td>\n",
       "      <td>NaN</td>\n",
       "      <td>Baldwin County, AL</td>\n",
       "      <td>1003.0</td>\n",
       "      <td>2006.0</td>\n",
       "      <td>2006.0</td>\n",
       "      <td>All other non-drug and non-alcohol causes</td>\n",
       "      <td>O9</td>\n",
       "      <td>1613</td>\n",
       "    </tr>\n",
       "    <tr>\n",
       "      <td>4</td>\n",
       "      <td>NaN</td>\n",
       "      <td>Barbour County, AL</td>\n",
       "      <td>1005.0</td>\n",
       "      <td>2006.0</td>\n",
       "      <td>2006.0</td>\n",
       "      <td>All other non-drug and non-alcohol causes</td>\n",
       "      <td>O9</td>\n",
       "      <td>284</td>\n",
       "    </tr>\n",
       "  </tbody>\n",
       "</table>\n",
       "</div>"
      ],
      "text/plain": [
       "  Notes              County  County Code    Year  Year Code  \\\n",
       "0   NaN  Autauga County, AL       1001.0  2006.0     2006.0   \n",
       "1   NaN  Baldwin County, AL       1003.0  2006.0     2006.0   \n",
       "2   NaN  Baldwin County, AL       1003.0  2006.0     2006.0   \n",
       "3   NaN  Baldwin County, AL       1003.0  2006.0     2006.0   \n",
       "4   NaN  Barbour County, AL       1005.0  2006.0     2006.0   \n",
       "\n",
       "                          Drug/Alcohol Induced Cause  \\\n",
       "0          All other non-drug and non-alcohol causes   \n",
       "1  Drug poisonings (overdose) Unintentional (X40-...   \n",
       "2                   All other alcohol-induced causes   \n",
       "3          All other non-drug and non-alcohol causes   \n",
       "4          All other non-drug and non-alcohol causes   \n",
       "\n",
       "  Drug/Alcohol Induced Cause Code Deaths  \n",
       "0                              O9    449  \n",
       "1                              D1     11  \n",
       "2                              A9     15  \n",
       "3                              O9   1613  \n",
       "4                              O9    284  "
      ]
     },
     "execution_count": 325,
     "metadata": {},
     "output_type": "execute_result"
    }
   ],
   "source": [
    "df_new.head()"
   ]
  },
  {
   "cell_type": "code",
   "execution_count": 326,
   "metadata": {},
   "outputs": [],
   "source": [
    "#split state and county name\n",
    "\n",
    "temp=df_new['County'].str.split(\",\",expand=True)\n",
    "df_new['County']=temp[0]\n",
    "df_new['State']=temp[1]"
   ]
  },
  {
   "cell_type": "code",
   "execution_count": 327,
   "metadata": {},
   "outputs": [
    {
     "data": {
      "text/plain": [
       "array(['All other non-drug and non-alcohol causes',\n",
       "       'Drug poisonings (overdose) Unintentional (X40-X44)',\n",
       "       'All other alcohol-induced causes',\n",
       "       'All other drug-induced causes',\n",
       "       'Drug poisonings (overdose) Undetermined (Y10-Y14)',\n",
       "       'Drug poisonings (overdose) Suicide (X60-X64)', nan,\n",
       "       'Alcohol poisonings (overdose) (X45, X65, Y15)',\n",
       "       'Drug poisonings (overdose) Homicide (X85)'], dtype=object)"
      ]
     },
     "execution_count": 327,
     "metadata": {},
     "output_type": "execute_result"
    }
   ],
   "source": [
    "# check 'Drug/Alcohol Induced Cause'\n",
    "df_new['Drug/Alcohol Induced Cause'].unique()"
   ]
  },
  {
   "cell_type": "code",
   "execution_count": 328,
   "metadata": {},
   "outputs": [],
   "source": [
    "#select 'Drug poisonings (overdose) Unintentional (X40-X44)', 'Drug poisonings (overdose) Undetermined (Y10-Y14)', 'Drug poisonings (overdose) Suicide (X60-X64)'\n",
    "df_death=df_new.loc[df_new['Drug/Alcohol Induced Cause'].isin(['Drug poisonings (overdose) Unintentional (X40-X44)', 'Drug poisonings (overdose) Undetermined (Y10-Y14)', 'Drug poisonings (overdose) Suicide (X60-X64)'])]"
   ]
  },
  {
   "cell_type": "code",
   "execution_count": 329,
   "metadata": {},
   "outputs": [],
   "source": [
    "#reorder col names\n",
    "columnsTitles = ['Notes', 'State', 'County', 'County Code', 'Year', 'Year Code',\n",
    "       'Drug/Alcohol Induced Cause', 'Drug/Alcohol Induced Cause Code',\n",
    "       'Deaths']\n",
    "\n",
    "df_death = df_death.reindex(columns=columnsTitles).copy()"
   ]
  },
  {
   "cell_type": "code",
   "execution_count": 330,
   "metadata": {},
   "outputs": [],
   "source": [
    "#drop useless cols\n",
    "\n",
    "df_death=df_death.drop([\"Notes\", \"Year Code\", \"Drug/Alcohol Induced Cause Code\"],axis=1 )"
   ]
  },
  {
   "cell_type": "code",
   "execution_count": 331,
   "metadata": {},
   "outputs": [],
   "source": [
    "# remove white space in state name\n",
    "df_death['State']=df_death['State'].str.replace(\" \",\"\")"
   ]
  },
  {
   "cell_type": "code",
   "execution_count": 332,
   "metadata": {},
   "outputs": [
    {
     "data": {
      "text/html": [
       "<div>\n",
       "<style scoped>\n",
       "    .dataframe tbody tr th:only-of-type {\n",
       "        vertical-align: middle;\n",
       "    }\n",
       "\n",
       "    .dataframe tbody tr th {\n",
       "        vertical-align: top;\n",
       "    }\n",
       "\n",
       "    .dataframe thead th {\n",
       "        text-align: right;\n",
       "    }\n",
       "</style>\n",
       "<table border=\"1\" class=\"dataframe\">\n",
       "  <thead>\n",
       "    <tr style=\"text-align: right;\">\n",
       "      <th></th>\n",
       "      <th>State</th>\n",
       "      <th>County</th>\n",
       "      <th>County Code</th>\n",
       "      <th>Year</th>\n",
       "      <th>Drug/Alcohol Induced Cause</th>\n",
       "      <th>Deaths</th>\n",
       "    </tr>\n",
       "  </thead>\n",
       "  <tbody>\n",
       "    <tr>\n",
       "      <td>1</td>\n",
       "      <td>AL</td>\n",
       "      <td>Baldwin County</td>\n",
       "      <td>1003.0</td>\n",
       "      <td>2006.0</td>\n",
       "      <td>Drug poisonings (overdose) Unintentional (X40-...</td>\n",
       "      <td>11</td>\n",
       "    </tr>\n",
       "    <tr>\n",
       "      <td>12</td>\n",
       "      <td>AL</td>\n",
       "      <td>Chilton County</td>\n",
       "      <td>1021.0</td>\n",
       "      <td>2006.0</td>\n",
       "      <td>Drug poisonings (overdose) Unintentional (X40-...</td>\n",
       "      <td>13</td>\n",
       "    </tr>\n",
       "    <tr>\n",
       "      <td>39</td>\n",
       "      <td>AL</td>\n",
       "      <td>Jefferson County</td>\n",
       "      <td>1073.0</td>\n",
       "      <td>2006.0</td>\n",
       "      <td>Drug poisonings (overdose) Unintentional (X40-...</td>\n",
       "      <td>55</td>\n",
       "    </tr>\n",
       "    <tr>\n",
       "      <td>55</td>\n",
       "      <td>AL</td>\n",
       "      <td>Mobile County</td>\n",
       "      <td>1097.0</td>\n",
       "      <td>2006.0</td>\n",
       "      <td>Drug poisonings (overdose) Unintentional (X40-...</td>\n",
       "      <td>23</td>\n",
       "    </tr>\n",
       "    <tr>\n",
       "      <td>56</td>\n",
       "      <td>AL</td>\n",
       "      <td>Mobile County</td>\n",
       "      <td>1097.0</td>\n",
       "      <td>2006.0</td>\n",
       "      <td>Drug poisonings (overdose) Undetermined (Y10-Y14)</td>\n",
       "      <td>10</td>\n",
       "    </tr>\n",
       "  </tbody>\n",
       "</table>\n",
       "</div>"
      ],
      "text/plain": [
       "   State            County  County Code    Year  \\\n",
       "1     AL    Baldwin County       1003.0  2006.0   \n",
       "12    AL    Chilton County       1021.0  2006.0   \n",
       "39    AL  Jefferson County       1073.0  2006.0   \n",
       "55    AL     Mobile County       1097.0  2006.0   \n",
       "56    AL     Mobile County       1097.0  2006.0   \n",
       "\n",
       "                           Drug/Alcohol Induced Cause Deaths  \n",
       "1   Drug poisonings (overdose) Unintentional (X40-...     11  \n",
       "12  Drug poisonings (overdose) Unintentional (X40-...     13  \n",
       "39  Drug poisonings (overdose) Unintentional (X40-...     55  \n",
       "55  Drug poisonings (overdose) Unintentional (X40-...     23  \n",
       "56  Drug poisonings (overdose) Undetermined (Y10-Y14)     10  "
      ]
     },
     "execution_count": 332,
     "metadata": {},
     "output_type": "execute_result"
    }
   ],
   "source": [
    "df_death.head()"
   ]
  },
  {
   "cell_type": "code",
   "execution_count": 333,
   "metadata": {},
   "outputs": [],
   "source": [
    "#cleaning missing value in 'Deaths'\n",
    "df_death['State']=df_death['State'].astype(str)\n",
    "df_death['County']=df_death['County'].astype(str)\n",
    "df_death['Deaths']=df_death['Deaths'].astype(str)\n",
    "df_death= df_death[~df_death['Deaths'].str.contains(\"Missing\")]\n",
    "\n"
   ]
  },
  {
   "cell_type": "code",
   "execution_count": 334,
   "metadata": {},
   "outputs": [],
   "source": [
    "#change data type\n",
    "\n",
    "df_death['County Code']=df_death['County Code'].astype(int)\n",
    "df_death['Year']=df_death['Year'].astype(int)\n",
    "df_death['Deaths']=pd.to_numeric(df_death['Deaths'], downcast='integer')"
   ]
  },
  {
   "cell_type": "code",
   "execution_count": 335,
   "metadata": {},
   "outputs": [
    {
     "data": {
      "text/html": [
       "<div>\n",
       "<style scoped>\n",
       "    .dataframe tbody tr th:only-of-type {\n",
       "        vertical-align: middle;\n",
       "    }\n",
       "\n",
       "    .dataframe tbody tr th {\n",
       "        vertical-align: top;\n",
       "    }\n",
       "\n",
       "    .dataframe thead th {\n",
       "        text-align: right;\n",
       "    }\n",
       "</style>\n",
       "<table border=\"1\" class=\"dataframe\">\n",
       "  <thead>\n",
       "    <tr style=\"text-align: right;\">\n",
       "      <th></th>\n",
       "      <th>State</th>\n",
       "      <th>County</th>\n",
       "      <th>County Code</th>\n",
       "      <th>Year</th>\n",
       "      <th>Drug/Alcohol Induced Cause</th>\n",
       "      <th>Deaths</th>\n",
       "    </tr>\n",
       "  </thead>\n",
       "  <tbody>\n",
       "    <tr>\n",
       "      <td>1</td>\n",
       "      <td>AL</td>\n",
       "      <td>Baldwin County</td>\n",
       "      <td>1003</td>\n",
       "      <td>2006</td>\n",
       "      <td>Drug poisonings (overdose) Unintentional (X40-...</td>\n",
       "      <td>11</td>\n",
       "    </tr>\n",
       "    <tr>\n",
       "      <td>12</td>\n",
       "      <td>AL</td>\n",
       "      <td>Chilton County</td>\n",
       "      <td>1021</td>\n",
       "      <td>2006</td>\n",
       "      <td>Drug poisonings (overdose) Unintentional (X40-...</td>\n",
       "      <td>13</td>\n",
       "    </tr>\n",
       "    <tr>\n",
       "      <td>39</td>\n",
       "      <td>AL</td>\n",
       "      <td>Jefferson County</td>\n",
       "      <td>1073</td>\n",
       "      <td>2006</td>\n",
       "      <td>Drug poisonings (overdose) Unintentional (X40-...</td>\n",
       "      <td>55</td>\n",
       "    </tr>\n",
       "    <tr>\n",
       "      <td>55</td>\n",
       "      <td>AL</td>\n",
       "      <td>Mobile County</td>\n",
       "      <td>1097</td>\n",
       "      <td>2006</td>\n",
       "      <td>Drug poisonings (overdose) Unintentional (X40-...</td>\n",
       "      <td>23</td>\n",
       "    </tr>\n",
       "    <tr>\n",
       "      <td>56</td>\n",
       "      <td>AL</td>\n",
       "      <td>Mobile County</td>\n",
       "      <td>1097</td>\n",
       "      <td>2006</td>\n",
       "      <td>Drug poisonings (overdose) Undetermined (Y10-Y14)</td>\n",
       "      <td>10</td>\n",
       "    </tr>\n",
       "  </tbody>\n",
       "</table>\n",
       "</div>"
      ],
      "text/plain": [
       "   State            County  County Code  Year  \\\n",
       "1     AL    Baldwin County         1003  2006   \n",
       "12    AL    Chilton County         1021  2006   \n",
       "39    AL  Jefferson County         1073  2006   \n",
       "55    AL     Mobile County         1097  2006   \n",
       "56    AL     Mobile County         1097  2006   \n",
       "\n",
       "                           Drug/Alcohol Induced Cause  Deaths  \n",
       "1   Drug poisonings (overdose) Unintentional (X40-...      11  \n",
       "12  Drug poisonings (overdose) Unintentional (X40-...      13  \n",
       "39  Drug poisonings (overdose) Unintentional (X40-...      55  \n",
       "55  Drug poisonings (overdose) Unintentional (X40-...      23  \n",
       "56  Drug poisonings (overdose) Undetermined (Y10-Y14)      10  "
      ]
     },
     "execution_count": 335,
     "metadata": {},
     "output_type": "execute_result"
    }
   ],
   "source": [
    "df_death.head()"
   ]
  },
  {
   "cell_type": "markdown",
   "metadata": {},
   "source": [
    "2. population data cleaning"
   ]
  },
  {
   "cell_type": "code",
   "execution_count": 336,
   "metadata": {},
   "outputs": [],
   "source": [
    "df2= pd.read_excel(\"PopulationReport.xlsx\")"
   ]
  },
  {
   "cell_type": "code",
   "execution_count": 337,
   "metadata": {},
   "outputs": [
    {
     "data": {
      "text/html": [
       "<div>\n",
       "<style scoped>\n",
       "    .dataframe tbody tr th:only-of-type {\n",
       "        vertical-align: middle;\n",
       "    }\n",
       "\n",
       "    .dataframe tbody tr th {\n",
       "        vertical-align: top;\n",
       "    }\n",
       "\n",
       "    .dataframe thead th {\n",
       "        text-align: right;\n",
       "    }\n",
       "</style>\n",
       "<table border=\"1\" class=\"dataframe\">\n",
       "  <thead>\n",
       "    <tr style=\"text-align: right;\">\n",
       "      <th></th>\n",
       "      <th>State</th>\n",
       "      <th>County Name</th>\n",
       "      <th>pop2010</th>\n",
       "    </tr>\n",
       "  </thead>\n",
       "  <tbody>\n",
       "    <tr>\n",
       "      <td>0</td>\n",
       "      <td>AL</td>\n",
       "      <td>Alabama</td>\n",
       "      <td>4780138</td>\n",
       "    </tr>\n",
       "    <tr>\n",
       "      <td>1</td>\n",
       "      <td>AL</td>\n",
       "      <td>Autauga County</td>\n",
       "      <td>54574</td>\n",
       "    </tr>\n",
       "    <tr>\n",
       "      <td>2</td>\n",
       "      <td>AL</td>\n",
       "      <td>Baldwin County</td>\n",
       "      <td>182264</td>\n",
       "    </tr>\n",
       "    <tr>\n",
       "      <td>3</td>\n",
       "      <td>AL</td>\n",
       "      <td>Barbour County</td>\n",
       "      <td>27457</td>\n",
       "    </tr>\n",
       "    <tr>\n",
       "      <td>4</td>\n",
       "      <td>AL</td>\n",
       "      <td>Bibb County</td>\n",
       "      <td>22920</td>\n",
       "    </tr>\n",
       "  </tbody>\n",
       "</table>\n",
       "</div>"
      ],
      "text/plain": [
       "  State     County Name  pop2010\n",
       "0    AL         Alabama  4780138\n",
       "1    AL  Autauga County    54574\n",
       "2    AL  Baldwin County   182264\n",
       "3    AL  Barbour County    27457\n",
       "4    AL     Bibb County    22920"
      ]
     },
     "execution_count": 337,
     "metadata": {},
     "output_type": "execute_result"
    }
   ],
   "source": [
    "df2.head()"
   ]
  },
  {
   "cell_type": "code",
   "execution_count": 338,
   "metadata": {},
   "outputs": [],
   "source": [
    "df2.rename(columns = {'County Name':'County'}, inplace = True)\n",
    "df2['State']=df2['State'].astype(str)\n",
    "df2['County']=df2['County'].astype(str)\n",
    "df2['pop2010']=df2['pop2010'].astype(int)"
   ]
  },
  {
   "cell_type": "markdown",
   "metadata": {},
   "source": [
    "3. Final data set"
   ]
  },
  {
   "cell_type": "code",
   "execution_count": 339,
   "metadata": {},
   "outputs": [],
   "source": [
    "#merging df_death and df2 to get final data set\n",
    "\n",
    "df_final=pd.merge(df_death, df2, how='inner', on=['State', 'County'])"
   ]
  },
  {
   "cell_type": "code",
   "execution_count": 340,
   "metadata": {},
   "outputs": [
    {
     "data": {
      "text/html": [
       "<div>\n",
       "<style scoped>\n",
       "    .dataframe tbody tr th:only-of-type {\n",
       "        vertical-align: middle;\n",
       "    }\n",
       "\n",
       "    .dataframe tbody tr th {\n",
       "        vertical-align: top;\n",
       "    }\n",
       "\n",
       "    .dataframe thead th {\n",
       "        text-align: right;\n",
       "    }\n",
       "</style>\n",
       "<table border=\"1\" class=\"dataframe\">\n",
       "  <thead>\n",
       "    <tr style=\"text-align: right;\">\n",
       "      <th></th>\n",
       "      <th>State</th>\n",
       "      <th>County</th>\n",
       "      <th>County Code</th>\n",
       "      <th>Year</th>\n",
       "      <th>Drug/Alcohol Induced Cause</th>\n",
       "      <th>Deaths</th>\n",
       "      <th>pop2010</th>\n",
       "    </tr>\n",
       "  </thead>\n",
       "  <tbody>\n",
       "    <tr>\n",
       "      <td>0</td>\n",
       "      <td>AL</td>\n",
       "      <td>Baldwin County</td>\n",
       "      <td>1003</td>\n",
       "      <td>2006</td>\n",
       "      <td>Drug poisonings (overdose) Unintentional (X40-...</td>\n",
       "      <td>11</td>\n",
       "      <td>182264</td>\n",
       "    </tr>\n",
       "    <tr>\n",
       "      <td>1</td>\n",
       "      <td>AL</td>\n",
       "      <td>Baldwin County</td>\n",
       "      <td>1003</td>\n",
       "      <td>2007</td>\n",
       "      <td>Drug poisonings (overdose) Unintentional (X40-...</td>\n",
       "      <td>24</td>\n",
       "      <td>182264</td>\n",
       "    </tr>\n",
       "    <tr>\n",
       "      <td>2</td>\n",
       "      <td>AL</td>\n",
       "      <td>Baldwin County</td>\n",
       "      <td>1003</td>\n",
       "      <td>2008</td>\n",
       "      <td>Drug poisonings (overdose) Unintentional (X40-...</td>\n",
       "      <td>19</td>\n",
       "      <td>182264</td>\n",
       "    </tr>\n",
       "    <tr>\n",
       "      <td>3</td>\n",
       "      <td>AL</td>\n",
       "      <td>Baldwin County</td>\n",
       "      <td>1003</td>\n",
       "      <td>2009</td>\n",
       "      <td>Drug poisonings (overdose) Unintentional (X40-...</td>\n",
       "      <td>29</td>\n",
       "      <td>182264</td>\n",
       "    </tr>\n",
       "    <tr>\n",
       "      <td>4</td>\n",
       "      <td>AL</td>\n",
       "      <td>Baldwin County</td>\n",
       "      <td>1003</td>\n",
       "      <td>2010</td>\n",
       "      <td>Drug poisonings (overdose) Unintentional (X40-...</td>\n",
       "      <td>24</td>\n",
       "      <td>182264</td>\n",
       "    </tr>\n",
       "  </tbody>\n",
       "</table>\n",
       "</div>"
      ],
      "text/plain": [
       "  State          County  County Code  Year  \\\n",
       "0    AL  Baldwin County         1003  2006   \n",
       "1    AL  Baldwin County         1003  2007   \n",
       "2    AL  Baldwin County         1003  2008   \n",
       "3    AL  Baldwin County         1003  2009   \n",
       "4    AL  Baldwin County         1003  2010   \n",
       "\n",
       "                          Drug/Alcohol Induced Cause  Deaths  pop2010  \n",
       "0  Drug poisonings (overdose) Unintentional (X40-...      11   182264  \n",
       "1  Drug poisonings (overdose) Unintentional (X40-...      24   182264  \n",
       "2  Drug poisonings (overdose) Unintentional (X40-...      19   182264  \n",
       "3  Drug poisonings (overdose) Unintentional (X40-...      29   182264  \n",
       "4  Drug poisonings (overdose) Unintentional (X40-...      24   182264  "
      ]
     },
     "execution_count": 340,
     "metadata": {},
     "output_type": "execute_result"
    }
   ],
   "source": [
    "df_final.head()"
   ]
  },
  {
   "cell_type": "code",
   "execution_count": 343,
   "metadata": {},
   "outputs": [],
   "source": [
    "#Death rate Calculation by county\n",
    "\n",
    "df_final['Death Rate']=df_final['Deaths']/df_final['pop2010']"
   ]
  },
  {
   "cell_type": "code",
   "execution_count": 344,
   "metadata": {},
   "outputs": [],
   "source": [
    "#df_final[(df_final['State']=='AK') & (df_final['Year']==2009)]"
   ]
  },
  {
   "cell_type": "code",
   "execution_count": 345,
   "metadata": {},
   "outputs": [],
   "source": [
    "# new table with Total Death group by State and Year\n",
    "df_death_tot=df_final.groupby([\"State\",\"Year\"]).Deaths.sum().reset_index()\n"
   ]
  },
  {
   "cell_type": "code",
   "execution_count": 346,
   "metadata": {},
   "outputs": [],
   "source": [
    "# new table with Total Population group by State and Year\n",
    "df_pop_tot=df_final.groupby([\"State\",\"Year\"]).pop2010.sum().reset_index()"
   ]
  },
  {
   "cell_type": "code",
   "execution_count": 347,
   "metadata": {},
   "outputs": [],
   "source": [
    "# merging two new tables\n",
    "df_final_2=pd.merge(df_death_tot, df_pop_tot, how='inner', on=['State', 'Year'])"
   ]
  },
  {
   "cell_type": "code",
   "execution_count": 348,
   "metadata": {},
   "outputs": [
    {
     "data": {
      "text/html": [
       "<div>\n",
       "<style scoped>\n",
       "    .dataframe tbody tr th:only-of-type {\n",
       "        vertical-align: middle;\n",
       "    }\n",
       "\n",
       "    .dataframe tbody tr th {\n",
       "        vertical-align: top;\n",
       "    }\n",
       "\n",
       "    .dataframe thead th {\n",
       "        text-align: right;\n",
       "    }\n",
       "</style>\n",
       "<table border=\"1\" class=\"dataframe\">\n",
       "  <thead>\n",
       "    <tr style=\"text-align: right;\">\n",
       "      <th></th>\n",
       "      <th>State</th>\n",
       "      <th>Year</th>\n",
       "      <th>Deaths</th>\n",
       "      <th>pop2010</th>\n",
       "    </tr>\n",
       "  </thead>\n",
       "  <tbody>\n",
       "    <tr>\n",
       "      <td>0</td>\n",
       "      <td>AK</td>\n",
       "      <td>2006</td>\n",
       "      <td>13</td>\n",
       "      <td>88992</td>\n",
       "    </tr>\n",
       "    <tr>\n",
       "      <td>1</td>\n",
       "      <td>AK</td>\n",
       "      <td>2007</td>\n",
       "      <td>10</td>\n",
       "      <td>88992</td>\n",
       "    </tr>\n",
       "    <tr>\n",
       "      <td>2</td>\n",
       "      <td>AK</td>\n",
       "      <td>2008</td>\n",
       "      <td>18</td>\n",
       "      <td>88992</td>\n",
       "    </tr>\n",
       "    <tr>\n",
       "      <td>3</td>\n",
       "      <td>AK</td>\n",
       "      <td>2009</td>\n",
       "      <td>42</td>\n",
       "      <td>241977</td>\n",
       "    </tr>\n",
       "    <tr>\n",
       "      <td>4</td>\n",
       "      <td>AK</td>\n",
       "      <td>2010</td>\n",
       "      <td>10</td>\n",
       "      <td>88992</td>\n",
       "    </tr>\n",
       "  </tbody>\n",
       "</table>\n",
       "</div>"
      ],
      "text/plain": [
       "  State  Year  Deaths  pop2010\n",
       "0    AK  2006      13    88992\n",
       "1    AK  2007      10    88992\n",
       "2    AK  2008      18    88992\n",
       "3    AK  2009      42   241977\n",
       "4    AK  2010      10    88992"
      ]
     },
     "execution_count": 348,
     "metadata": {},
     "output_type": "execute_result"
    }
   ],
   "source": [
    "df_final_2.head()"
   ]
  },
  {
   "cell_type": "code",
   "execution_count": 349,
   "metadata": {},
   "outputs": [],
   "source": [
    "# add Death Rate by State\n",
    "df_final_2['Death Rate']=df_final_2['Deaths']/df_final_2['pop2010']"
   ]
  },
  {
   "cell_type": "code",
   "execution_count": 350,
   "metadata": {},
   "outputs": [
    {
     "data": {
      "text/html": [
       "<div>\n",
       "<style scoped>\n",
       "    .dataframe tbody tr th:only-of-type {\n",
       "        vertical-align: middle;\n",
       "    }\n",
       "\n",
       "    .dataframe tbody tr th {\n",
       "        vertical-align: top;\n",
       "    }\n",
       "\n",
       "    .dataframe thead th {\n",
       "        text-align: right;\n",
       "    }\n",
       "</style>\n",
       "<table border=\"1\" class=\"dataframe\">\n",
       "  <thead>\n",
       "    <tr style=\"text-align: right;\">\n",
       "      <th></th>\n",
       "      <th>State</th>\n",
       "      <th>Year</th>\n",
       "      <th>Deaths</th>\n",
       "      <th>pop2010</th>\n",
       "      <th>Death Rate</th>\n",
       "    </tr>\n",
       "  </thead>\n",
       "  <tbody>\n",
       "    <tr>\n",
       "      <td>0</td>\n",
       "      <td>AK</td>\n",
       "      <td>2006</td>\n",
       "      <td>13</td>\n",
       "      <td>88992</td>\n",
       "      <td>0.000146</td>\n",
       "    </tr>\n",
       "    <tr>\n",
       "      <td>1</td>\n",
       "      <td>AK</td>\n",
       "      <td>2007</td>\n",
       "      <td>10</td>\n",
       "      <td>88992</td>\n",
       "      <td>0.000112</td>\n",
       "    </tr>\n",
       "    <tr>\n",
       "      <td>2</td>\n",
       "      <td>AK</td>\n",
       "      <td>2008</td>\n",
       "      <td>18</td>\n",
       "      <td>88992</td>\n",
       "      <td>0.000202</td>\n",
       "    </tr>\n",
       "    <tr>\n",
       "      <td>3</td>\n",
       "      <td>AK</td>\n",
       "      <td>2009</td>\n",
       "      <td>42</td>\n",
       "      <td>241977</td>\n",
       "      <td>0.000174</td>\n",
       "    </tr>\n",
       "    <tr>\n",
       "      <td>4</td>\n",
       "      <td>AK</td>\n",
       "      <td>2010</td>\n",
       "      <td>10</td>\n",
       "      <td>88992</td>\n",
       "      <td>0.000112</td>\n",
       "    </tr>\n",
       "  </tbody>\n",
       "</table>\n",
       "</div>"
      ],
      "text/plain": [
       "  State  Year  Deaths  pop2010  Death Rate\n",
       "0    AK  2006      13    88992    0.000146\n",
       "1    AK  2007      10    88992    0.000112\n",
       "2    AK  2008      18    88992    0.000202\n",
       "3    AK  2009      42   241977    0.000174\n",
       "4    AK  2010      10    88992    0.000112"
      ]
     },
     "execution_count": 350,
     "metadata": {},
     "output_type": "execute_result"
    }
   ],
   "source": [
    "df_final_2.head()"
   ]
  },
  {
   "cell_type": "code",
   "execution_count": null,
   "metadata": {},
   "outputs": [],
   "source": []
  },
  {
   "cell_type": "code",
   "execution_count": 351,
   "metadata": {},
   "outputs": [],
   "source": [
    "# select FL and four adjacent States\n",
    "df_sel1=df_final_2[(df_final_2['State']=='FL') | (df_final_2['State']=='SC') | (df_final_2['State']=='AL') |(df_final_2['State']=='GA') | (df_final_2['State']=='NC') ]"
   ]
  },
  {
   "cell_type": "code",
   "execution_count": 352,
   "metadata": {},
   "outputs": [
    {
     "data": {
      "text/html": [
       "<div>\n",
       "<style scoped>\n",
       "    .dataframe tbody tr th:only-of-type {\n",
       "        vertical-align: middle;\n",
       "    }\n",
       "\n",
       "    .dataframe tbody tr th {\n",
       "        vertical-align: top;\n",
       "    }\n",
       "\n",
       "    .dataframe thead th {\n",
       "        text-align: right;\n",
       "    }\n",
       "</style>\n",
       "<table border=\"1\" class=\"dataframe\">\n",
       "  <thead>\n",
       "    <tr style=\"text-align: right;\">\n",
       "      <th></th>\n",
       "      <th>State</th>\n",
       "      <th>Year</th>\n",
       "      <th>Deaths</th>\n",
       "      <th>pop2010</th>\n",
       "      <th>Death Rate</th>\n",
       "    </tr>\n",
       "  </thead>\n",
       "  <tbody>\n",
       "    <tr>\n",
       "      <td>10</td>\n",
       "      <td>AL</td>\n",
       "      <td>2006</td>\n",
       "      <td>175</td>\n",
       "      <td>2449535</td>\n",
       "      <td>0.000071</td>\n",
       "    </tr>\n",
       "    <tr>\n",
       "      <td>11</td>\n",
       "      <td>AL</td>\n",
       "      <td>2007</td>\n",
       "      <td>287</td>\n",
       "      <td>2561418</td>\n",
       "      <td>0.000112</td>\n",
       "    </tr>\n",
       "    <tr>\n",
       "      <td>12</td>\n",
       "      <td>AL</td>\n",
       "      <td>2008</td>\n",
       "      <td>361</td>\n",
       "      <td>2803009</td>\n",
       "      <td>0.000129</td>\n",
       "    </tr>\n",
       "    <tr>\n",
       "      <td>13</td>\n",
       "      <td>AL</td>\n",
       "      <td>2009</td>\n",
       "      <td>409</td>\n",
       "      <td>3756761</td>\n",
       "      <td>0.000109</td>\n",
       "    </tr>\n",
       "    <tr>\n",
       "      <td>14</td>\n",
       "      <td>AL</td>\n",
       "      <td>2010</td>\n",
       "      <td>321</td>\n",
       "      <td>2917208</td>\n",
       "      <td>0.000110</td>\n",
       "    </tr>\n",
       "  </tbody>\n",
       "</table>\n",
       "</div>"
      ],
      "text/plain": [
       "   State  Year  Deaths  pop2010  Death Rate\n",
       "10    AL  2006     175  2449535    0.000071\n",
       "11    AL  2007     287  2561418    0.000112\n",
       "12    AL  2008     361  2803009    0.000129\n",
       "13    AL  2009     409  3756761    0.000109\n",
       "14    AL  2010     321  2917208    0.000110"
      ]
     },
     "execution_count": 352,
     "metadata": {},
     "output_type": "execute_result"
    }
   ],
   "source": [
    "df_sel1.head()"
   ]
  },
  {
   "cell_type": "code",
   "execution_count": 353,
   "metadata": {},
   "outputs": [
    {
     "name": "stderr",
     "output_type": "stream",
     "text": [
      "C:\\ProgramData\\Anaconda3\\lib\\site-packages\\plotnine\\stats\\smoothers.py:168: PlotnineWarning: Confidence intervals are not yet implementedfor lowess smoothings.\n",
      "  \"for lowess smoothings.\", PlotnineWarning)\n"
     ]
    },
    {
     "data": {
      "image/png": "[encoded data removed]",
      "text/plain": [
       "<Figure size 640x480 with 1 Axes>"
      ]
     },
     "metadata": {},
     "output_type": "display_data"
    },
    {
     "data": {
      "text/plain": [
       "<ggplot: (178231388210)>"
      ]
     },
     "execution_count": 353,
     "metadata": {},
     "output_type": "execute_result"
    }
   ],
   "source": [
    "fig=(ggplot(aes(x='Year', y='Death Rate', group = 'State', color = 'State') , data = df_sel1) + geom_smooth()  + geom_vline(xintercept=2010, linetype = \"dotted\") + xlim(2008, 2014))\n",
    "fig"
   ]
  },
  {
   "cell_type": "code",
   "execution_count": 354,
   "metadata": {},
   "outputs": [],
   "source": [
    "# select WA and four adjacent States\n",
    "df_sel2=df_final_2[(df_final_2['State']=='WA') | (df_final_2['State']=='ID') | (df_final_2['State']=='CA') |(df_final_2['State']=='MT') | (df_final_2['State']=='NV') ]\n"
   ]
  },
  {
   "cell_type": "code",
   "execution_count": 355,
   "metadata": {},
   "outputs": [
    {
     "name": "stderr",
     "output_type": "stream",
     "text": [
      "C:\\ProgramData\\Anaconda3\\lib\\site-packages\\plotnine\\stats\\smoothers.py:168: PlotnineWarning: Confidence intervals are not yet implementedfor lowess smoothings.\n",
      "  \"for lowess smoothings.\", PlotnineWarning)\n"
     ]
    },
    {
     "data": {
      "image/png": "[encoded data removed]",
      "text/plain": [
       "<Figure size 640x480 with 1 Axes>"
      ]
     },
     "metadata": {},
     "output_type": "display_data"
    },
    {
     "data": {
      "text/plain": [
       "<ggplot: (178229465187)>"
      ]
     },
     "execution_count": 355,
     "metadata": {},
     "output_type": "execute_result"
    }
   ],
   "source": [
    "fig=(ggplot(aes(x='Year', y='Death Rate', group = 'State', color = 'State') , data = df_sel2) + geom_smooth()  + geom_vline(xintercept=2011, linetype = \"dotted\") + xlim(2009, 2015))\n",
    "fig"
   ]
  },
  {
   "cell_type": "code",
   "execution_count": 357,
   "metadata": {},
   "outputs": [],
   "source": [
    "# select TX and four adjacent States\n",
    "df_sel3=df_final_2[(df_final_2['State']=='TX') | (df_final_2['State']=='LA') | (df_final_2['State']=='OK') |(df_final_2['State']=='NM') | (df_final_2['State']=='AK') ]\n"
   ]
  },
  {
   "cell_type": "code",
   "execution_count": 358,
   "metadata": {},
   "outputs": [
    {
     "name": "stderr",
     "output_type": "stream",
     "text": [
      "C:\\ProgramData\\Anaconda3\\lib\\site-packages\\plotnine\\stats\\smoothers.py:168: PlotnineWarning: Confidence intervals are not yet implementedfor lowess smoothings.\n",
      "  \"for lowess smoothings.\", PlotnineWarning)\n"
     ]
    },
    {
     "data": {
      "image/png": "[encoded data removed]",
      "text/plain": [
       "<Figure size 640x480 with 1 Axes>"
      ]
     },
     "metadata": {},
     "output_type": "display_data"
    },
    {
     "data": {
      "text/plain": [
       "<ggplot: (178229598037)>"
      ]
     },
     "execution_count": 358,
     "metadata": {},
     "output_type": "execute_result"
    }
   ],
   "source": [
    "fig=(ggplot(aes(x='Year', y='Death Rate', group = 'State', color = 'State') , data = df_sel3) + geom_smooth()  + geom_vline(xintercept=2007, linetype = \"dotted\") + xlim(2006, 2011))\n",
    "fig\n"
   ]
  },
  {
   "cell_type": "code",
   "execution_count": null,
   "metadata": {},
   "outputs": [],
   "source": []
  },
  {
   "cell_type": "code",
   "execution_count": 320,
   "metadata": {},
   "outputs": [],
   "source": [
    "#test=df_final.groupby(\"County\")\n",
    "#test.get_group(\"Baldwin County\")"
   ]
  },
  {
   "cell_type": "code",
   "execution_count": null,
   "metadata": {},
   "outputs": [],
   "source": []
  }
 ],
 "metadata": {
  "kernelspec": {
   "display_name": "Python 3",
   "language": "python",
   "name": "python3"
  },
  "language_info": {
   "codemirror_mode": {
    "name": "ipython",
    "version": 3
   },
   "file_extension": ".py",
   "mimetype": "text/x-python",
   "name": "python",
   "nbconvert_exporter": "python",
   "pygments_lexer": "ipython3",
   "version": "3.7.3"
  }
 },
 "nbformat": 4,
 "nbformat_minor": 2
}
