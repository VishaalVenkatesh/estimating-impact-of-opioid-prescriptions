{
 "cells": [
  {
   "cell_type": "code",
   "execution_count": 189,
   "metadata": {},
   "outputs": [],
   "source": [
    "import pandas as pd\n",
    "import numpy as np\n",
    "from plotnine import *\n",
    "\n",
    "states =  [\"AL\", \"AK\",  \"AR\", \"CA\", \"CO\", \"CT\", \"DC\", \"DE\", \"FL\", \"GA\", \n",
    "           \"HI\", \"ID\", \"IL\", \"IN\", \"IA\", \"KS\", \"KY\", \"LA\", \"ME\", \"MD\", \n",
    "           \"MA\", \"MI\", \"MN\", \"MS\", \"MO\", \"MT\", \"NE\", \"NV\", \"NH\", \"NJ\", \n",
    "           \"NM\", \"NY\", \"NC\", \"ND\", \"OH\", \"OK\", \"OR\", \"PA\", \"RI\", \"SC\", \n",
    "           \"SD\", \"TN\", \"TX\", \"UT\", \"VT\", \"VA\", \"WA\", \"WV\", \"WI\", \"WY\"]"
   ]
  },
  {
   "cell_type": "code",
   "execution_count": 190,
   "metadata": {},
   "outputs": [],
   "source": [
    "#Population Data\n",
    "pop_data = pd.read_csv(\"/Users/abhirajvinnakota/Desktop/estimating-impact-of-opioid-prescription-regulations-team-6/20_intermediate_files/30_pop_data_analysis/pop_counties_20062012.csv\", usecols = ['BUYER_STATE','BUYER_COUNTY','year','population']) #reading the data\n",
    "pop_data = pop_data[pop_data['year'] == 2010][['BUYER_COUNTY','BUYER_STATE','population']] #filtered for 2010\n",
    "pop_data = pop_data.rename({\"BUYER_STATE\":\"STATE\",\"BUYER_COUNTY\":\"COUNTY\"}, axis=1) #renaming columns\n",
    "\n"
   ]
  },
  {
   "cell_type": "code",
   "execution_count": 191,
   "metadata": {},
   "outputs": [],
   "source": [
    "## For Florida\n",
    "# 1> Appending the datasets for individual states\n",
    "final_df = pd.DataFrame(columns=('STATE','COUNTY','Year','opioids')) #creating empty dataframe with the required columns\n",
    "\n",
    "for state in states: #iterating over the states\n",
    "    df1 = pd.read_pickle('/Users/abhirajvinnakota/Desktop/estimating-impact-of-opioid-prescription-regulations-team-6/20_intermediate_files/10_opioids_analysis/20_state_level_data_from_20/florida/'+str(state)+'.pkl') #reading the file\n",
    "    final_df = final_df.append(df1,sort = True) #appending to the empty dataframe (not empty after the first iteration)\n",
    "\n",
    "# 2> Creating column for pre_post\n",
    "final_df.loc[final_df['Year'].astype('str').astype('int') >= 2010, 'pre_post'] = 'post'\n",
    "final_df.loc[final_df['Year'].astype('str').astype('int') < 2010, 'pre_post'] = 'pre'\n",
    "\n",
    "# 3> Creating column for policy state\n",
    "final_df.loc[(final_df['STATE'] == 'FL'), 'policy_state'] = 1\n",
    "final_df.loc[(final_df['STATE'] != 'FL'), 'policy_state'] = 0\n",
    "\n",
    "# 4> Dropping other policy change states from the analysis (namely, Texas and Washington)\n",
    "final_df = final_df[~((final_df['STATE'] == 'WA') | (final_df['STATE'] == 'TX'))]\n",
    "\n",
    "# 5> Final Dataset\n",
    "final_data = final_df.merge(pop_data, on =['COUNTY','STATE'])#merging both the datasets\n",
    "final_data['opioids_per_capita'] = np.divide(final_data['opioids'],final_data['population']) #calculating opioids per capita per year\n",
    "final_data = final_data.drop(['opioids','population'],axis= 1 ) #droping unnessary columns\n",
    "pd.to_pickle(final_data,'/Users/abhirajvinnakota/Desktop/estimating-impact-of-opioid-prescription-regulations-team-6/20_intermediate_files/10_opioids_analysis/30_final_data_sets_from_30/1.final_dataset_florida.pkl') #writing the final file to disk"
   ]
  },
  {
   "cell_type": "code",
   "execution_count": 192,
   "metadata": {},
   "outputs": [
    {
     "data": {
      "text/plain": [
       "(19040, 6)"
      ]
     },
     "execution_count": 192,
     "metadata": {},
     "output_type": "execute_result"
    }
   ],
   "source": [
    "df_florida = pd.read_pickle('/Users/abhirajvinnakota/Desktop/estimating-impact-of-opioid-prescription-regulations-team-6/20_intermediate_files/10_opioids_analysis/30_final_data_sets_from_30/1.final_dataset_florida.pkl')\n",
    "df_florida.shape"
   ]
  },
  {
   "cell_type": "code",
   "execution_count": 193,
   "metadata": {},
   "outputs": [
    {
     "data": {
      "text/html": [
       "<div>\n",
       "<style scoped>\n",
       "    .dataframe tbody tr th:only-of-type {\n",
       "        vertical-align: middle;\n",
       "    }\n",
       "\n",
       "    .dataframe tbody tr th {\n",
       "        vertical-align: top;\n",
       "    }\n",
       "\n",
       "    .dataframe thead th {\n",
       "        text-align: right;\n",
       "    }\n",
       "</style>\n",
       "<table border=\"1\" class=\"dataframe\">\n",
       "  <thead>\n",
       "    <tr style=\"text-align: right;\">\n",
       "      <th></th>\n",
       "      <th>COUNTY</th>\n",
       "      <th>STATE</th>\n",
       "      <th>Year</th>\n",
       "      <th>pre_post</th>\n",
       "      <th>policy_state</th>\n",
       "      <th>opioids_per_capita</th>\n",
       "    </tr>\n",
       "  </thead>\n",
       "  <tbody>\n",
       "    <tr>\n",
       "      <td>0</td>\n",
       "      <td>AUTAUGA</td>\n",
       "      <td>AL</td>\n",
       "      <td>2006</td>\n",
       "      <td>pre</td>\n",
       "      <td>0.0</td>\n",
       "      <td>0.321711</td>\n",
       "    </tr>\n",
       "    <tr>\n",
       "      <td>1</td>\n",
       "      <td>AUTAUGA</td>\n",
       "      <td>AL</td>\n",
       "      <td>2007</td>\n",
       "      <td>pre</td>\n",
       "      <td>0.0</td>\n",
       "      <td>0.360313</td>\n",
       "    </tr>\n",
       "    <tr>\n",
       "      <td>2</td>\n",
       "      <td>AUTAUGA</td>\n",
       "      <td>AL</td>\n",
       "      <td>2008</td>\n",
       "      <td>pre</td>\n",
       "      <td>0.0</td>\n",
       "      <td>0.409855</td>\n",
       "    </tr>\n",
       "    <tr>\n",
       "      <td>3</td>\n",
       "      <td>AUTAUGA</td>\n",
       "      <td>AL</td>\n",
       "      <td>2009</td>\n",
       "      <td>pre</td>\n",
       "      <td>0.0</td>\n",
       "      <td>0.459787</td>\n",
       "    </tr>\n",
       "    <tr>\n",
       "      <td>4</td>\n",
       "      <td>AUTAUGA</td>\n",
       "      <td>AL</td>\n",
       "      <td>2010</td>\n",
       "      <td>post</td>\n",
       "      <td>0.0</td>\n",
       "      <td>0.492321</td>\n",
       "    </tr>\n",
       "  </tbody>\n",
       "</table>\n",
       "</div>"
      ],
      "text/plain": [
       "    COUNTY STATE  Year pre_post  policy_state  opioids_per_capita\n",
       "0  AUTAUGA    AL  2006      pre           0.0            0.321711\n",
       "1  AUTAUGA    AL  2007      pre           0.0            0.360313\n",
       "2  AUTAUGA    AL  2008      pre           0.0            0.409855\n",
       "3  AUTAUGA    AL  2009      pre           0.0            0.459787\n",
       "4  AUTAUGA    AL  2010     post           0.0            0.492321"
      ]
     },
     "execution_count": 193,
     "metadata": {},
     "output_type": "execute_result"
    }
   ],
   "source": [
    "df_florida.head()"
   ]
  },
  {
   "cell_type": "code",
   "execution_count": null,
   "metadata": {},
   "outputs": [],
   "source": []
  },
  {
   "cell_type": "code",
   "execution_count": 194,
   "metadata": {},
   "outputs": [],
   "source": [
    "# For Texas\n",
    "#  1> Appending the datasets for individual states\n",
    "final_df = pd.DataFrame(columns=('STATE','COUNTY','Year','Month','opioids')) #creating empty dataframe with the required columns\n",
    "\n",
    "for state in states: #iterating over the states\n",
    "    df1 = pd.read_pickle('/Users/abhirajvinnakota/Desktop/estimating-impact-of-opioid-prescription-regulations-team-6/20_intermediate_files/10_opioids_analysis/20_state_level_data_from_20/texas_wash/'+str(state)+'.pkl') #reading the file\n",
    "    final_df = final_df.append(df1,sort = True) #appending to the empty dataframe (not empty after the first iteration)\n",
    "    \n",
    "#  2> Creating column for pre_post\n",
    "final_df.loc[final_df['Year'].astype('str').astype('int') < 2007, 'pre_post'] = 'pre'\n",
    "final_df.loc[final_df['Year'].astype('str').astype('int') >= 2007, 'pre_post'] = 'post'\n",
    "\n",
    "# 2.5> Creating a column for plotting \n",
    "final_df['Year_axis'] = final_df['Year'] + (final_df['Month']/12)\n",
    "\n",
    "#  3> Creating column for policy state\n",
    "final_df.loc[(final_df['STATE'] == 'TX'), 'policy_state'] = 1\n",
    "final_df.loc[(final_df['STATE'] != 'TX'), 'policy_state'] = 0\n",
    "\n",
    "#  4> Dropping other policy change states from the analysis (namely, Florida and Washington)\n",
    "final_df = final_df[~((final_df['STATE'] == 'WA') | (final_df['STATE'] == 'FL'))]\n",
    "\n",
    "#  5> Final Dataset\n",
    "final_data = final_df.merge(pop_data, on =['COUNTY','STATE']) #merging both the datasets\n",
    "final_data['opioids_per_capita'] = np.divide(final_data['opioids'],final_data['population']) #calculating opioids per capita per year\n",
    "final_data = final_data.drop(['opioids','population'],axis= 1 ) #droping unnessary columns\n",
    "pd.to_pickle(final_data,'/Users/abhirajvinnakota/Desktop/estimating-impact-of-opioid-prescription-regulations-team-6/20_intermediate_files/10_opioids_analysis/30_final_data_sets_from_30/1.final_dataset_texas.pkl') #writing the final file to disk\n",
    "\n",
    "\n"
   ]
  },
  {
   "cell_type": "code",
   "execution_count": 195,
   "metadata": {},
   "outputs": [
    {
     "data": {
      "text/plain": [
       "(239968, 8)"
      ]
     },
     "execution_count": 195,
     "metadata": {},
     "output_type": "execute_result"
    }
   ],
   "source": [
    "df_texas = pd.read_pickle('/Users/abhirajvinnakota/Desktop/estimating-impact-of-opioid-prescription-regulations-team-6/20_intermediate_files/10_opioids_analysis/30_final_data_sets_from_30/1.final_dataset_texas.pkl') #read the final file to disk\n",
    "df_texas.shape\n"
   ]
  },
  {
   "cell_type": "code",
   "execution_count": 196,
   "metadata": {},
   "outputs": [
    {
     "data": {
      "text/html": [
       "<div>\n",
       "<style scoped>\n",
       "    .dataframe tbody tr th:only-of-type {\n",
       "        vertical-align: middle;\n",
       "    }\n",
       "\n",
       "    .dataframe tbody tr th {\n",
       "        vertical-align: top;\n",
       "    }\n",
       "\n",
       "    .dataframe thead th {\n",
       "        text-align: right;\n",
       "    }\n",
       "</style>\n",
       "<table border=\"1\" class=\"dataframe\">\n",
       "  <thead>\n",
       "    <tr style=\"text-align: right;\">\n",
       "      <th></th>\n",
       "      <th>COUNTY</th>\n",
       "      <th>Month</th>\n",
       "      <th>STATE</th>\n",
       "      <th>Year</th>\n",
       "      <th>pre_post</th>\n",
       "      <th>Year_axis</th>\n",
       "      <th>policy_state</th>\n",
       "      <th>opioids_per_capita</th>\n",
       "    </tr>\n",
       "  </thead>\n",
       "  <tbody>\n",
       "    <tr>\n",
       "      <td>0</td>\n",
       "      <td>AUTAUGA</td>\n",
       "      <td>1</td>\n",
       "      <td>AL</td>\n",
       "      <td>2006</td>\n",
       "      <td>pre</td>\n",
       "      <td>2006.08</td>\n",
       "      <td>0.0</td>\n",
       "      <td>0.003699</td>\n",
       "    </tr>\n",
       "    <tr>\n",
       "      <td>1</td>\n",
       "      <td>AUTAUGA</td>\n",
       "      <td>2</td>\n",
       "      <td>AL</td>\n",
       "      <td>2006</td>\n",
       "      <td>pre</td>\n",
       "      <td>2006.17</td>\n",
       "      <td>0.0</td>\n",
       "      <td>0.021190</td>\n",
       "    </tr>\n",
       "    <tr>\n",
       "      <td>2</td>\n",
       "      <td>AUTAUGA</td>\n",
       "      <td>3</td>\n",
       "      <td>AL</td>\n",
       "      <td>2006</td>\n",
       "      <td>pre</td>\n",
       "      <td>2006.25</td>\n",
       "      <td>0.0</td>\n",
       "      <td>0.027453</td>\n",
       "    </tr>\n",
       "    <tr>\n",
       "      <td>3</td>\n",
       "      <td>AUTAUGA</td>\n",
       "      <td>4</td>\n",
       "      <td>AL</td>\n",
       "      <td>2006</td>\n",
       "      <td>pre</td>\n",
       "      <td>2006.33</td>\n",
       "      <td>0.0</td>\n",
       "      <td>0.026157</td>\n",
       "    </tr>\n",
       "    <tr>\n",
       "      <td>4</td>\n",
       "      <td>AUTAUGA</td>\n",
       "      <td>5</td>\n",
       "      <td>AL</td>\n",
       "      <td>2006</td>\n",
       "      <td>pre</td>\n",
       "      <td>2006.42</td>\n",
       "      <td>0.0</td>\n",
       "      <td>0.024269</td>\n",
       "    </tr>\n",
       "  </tbody>\n",
       "</table>\n",
       "</div>"
      ],
      "text/plain": [
       "    COUNTY Month STATE  Year pre_post Year_axis  policy_state  \\\n",
       "0  AUTAUGA     1    AL  2006      pre   2006.08           0.0   \n",
       "1  AUTAUGA     2    AL  2006      pre   2006.17           0.0   \n",
       "2  AUTAUGA     3    AL  2006      pre   2006.25           0.0   \n",
       "3  AUTAUGA     4    AL  2006      pre   2006.33           0.0   \n",
       "4  AUTAUGA     5    AL  2006      pre   2006.42           0.0   \n",
       "\n",
       "   opioids_per_capita  \n",
       "0            0.003699  \n",
       "1            0.021190  \n",
       "2            0.027453  \n",
       "3            0.026157  \n",
       "4            0.024269  "
      ]
     },
     "execution_count": 196,
     "metadata": {},
     "output_type": "execute_result"
    }
   ],
   "source": [
    "df_texas.head()"
   ]
  },
  {
   "cell_type": "code",
   "execution_count": null,
   "metadata": {},
   "outputs": [],
   "source": []
  },
  {
   "cell_type": "code",
   "execution_count": 197,
   "metadata": {},
   "outputs": [],
   "source": [
    "# For Washington\n",
    "#  1> appending the datasets for individual states\n",
    "final_df = pd.DataFrame(columns=('STATE','COUNTY','Year','Month','opioids')) #creating empty dataframe with the required columns\n",
    "\n",
    "for state in states: #iterating over the states\n",
    "    df1 = pd.read_pickle('/Users/abhirajvinnakota/Desktop/estimating-impact-of-opioid-prescription-regulations-team-6/20_intermediate_files/10_opioids_analysis/20_state_level_data_from_20/texas_wash/'+str(state)+'.pkl') #reading the file\n",
    "    final_df = final_df.append(df1,sort = True) #appending to the empty dataframe (not empty after the first iteration)\n",
    "    \n",
    "#  2> creating column for pre_post\n",
    "final_df.loc[final_df['Year'].astype('str').astype('int') < 2011, 'pre_post'] = 'pre'\n",
    "final_df.loc[final_df['Year'].astype('str').astype('int') >= 2011, 'pre_post'] = 'post'\n",
    "\n",
    "# 2.5> Creating a column for plotting \n",
    "final_df['Year_axis'] = final_df['Year'] + (final_df['Month']/12)\n",
    "\n",
    "#  3> creating column for policy state\n",
    "final_df.loc[(final_df['STATE'] == 'WA'), 'policy_state'] = 1\n",
    "final_df.loc[(final_df['STATE'] != 'WA'), 'policy_state'] = 0\n",
    "\n",
    "#  4> dropping other policy change states from the analysis (namely, Florida and Texas)\n",
    "final_df = final_df[~((final_df['STATE'] == 'TX') | (final_df['STATE'] == 'FL'))]\n",
    "\n",
    "#  5> Final Dataset\n",
    "final_data = final_df.merge(pop_data, on =['COUNTY','STATE']) #merging both the datasets\n",
    "final_data['opioids_per_capita'] = np.divide(final_data['opioids'],final_data['population']) #calculating opioids per capita per year\n",
    "final_data = final_data.drop(['opioids','population'],axis= 1 ) #droping unnessary columns\n",
    "pd.to_pickle(final_data,'/Users/abhirajvinnakota/Desktop/estimating-impact-of-opioid-prescription-regulations-team-6/20_intermediate_files/10_opioids_analysis/30_final_data_sets_from_30/1.final_dataset_washington.pkl') #writing the final file to disk\n"
   ]
  },
  {
   "cell_type": "code",
   "execution_count": 198,
   "metadata": {},
   "outputs": [
    {
     "data": {
      "text/plain": [
       "(224557, 8)"
      ]
     },
     "execution_count": 198,
     "metadata": {},
     "output_type": "execute_result"
    }
   ],
   "source": [
    "df_wash = pd.read_pickle('/Users/abhirajvinnakota/Desktop/estimating-impact-of-opioid-prescription-regulations-team-6/20_intermediate_files/10_opioids_analysis/30_final_data_sets_from_30/1.final_dataset_washington.pkl') #read the final file to disk\n",
    "df_wash.shape"
   ]
  },
  {
   "cell_type": "code",
   "execution_count": 199,
   "metadata": {},
   "outputs": [
    {
     "data": {
      "text/html": [
       "<div>\n",
       "<style scoped>\n",
       "    .dataframe tbody tr th:only-of-type {\n",
       "        vertical-align: middle;\n",
       "    }\n",
       "\n",
       "    .dataframe tbody tr th {\n",
       "        vertical-align: top;\n",
       "    }\n",
       "\n",
       "    .dataframe thead th {\n",
       "        text-align: right;\n",
       "    }\n",
       "</style>\n",
       "<table border=\"1\" class=\"dataframe\">\n",
       "  <thead>\n",
       "    <tr style=\"text-align: right;\">\n",
       "      <th></th>\n",
       "      <th>COUNTY</th>\n",
       "      <th>Month</th>\n",
       "      <th>STATE</th>\n",
       "      <th>Year</th>\n",
       "      <th>pre_post</th>\n",
       "      <th>Year_axis</th>\n",
       "      <th>policy_state</th>\n",
       "      <th>opioids_per_capita</th>\n",
       "    </tr>\n",
       "  </thead>\n",
       "  <tbody>\n",
       "    <tr>\n",
       "      <td>0</td>\n",
       "      <td>AUTAUGA</td>\n",
       "      <td>1</td>\n",
       "      <td>AL</td>\n",
       "      <td>2006</td>\n",
       "      <td>pre</td>\n",
       "      <td>2006.08</td>\n",
       "      <td>0.0</td>\n",
       "      <td>0.003699</td>\n",
       "    </tr>\n",
       "    <tr>\n",
       "      <td>1</td>\n",
       "      <td>AUTAUGA</td>\n",
       "      <td>2</td>\n",
       "      <td>AL</td>\n",
       "      <td>2006</td>\n",
       "      <td>pre</td>\n",
       "      <td>2006.17</td>\n",
       "      <td>0.0</td>\n",
       "      <td>0.021190</td>\n",
       "    </tr>\n",
       "    <tr>\n",
       "      <td>2</td>\n",
       "      <td>AUTAUGA</td>\n",
       "      <td>3</td>\n",
       "      <td>AL</td>\n",
       "      <td>2006</td>\n",
       "      <td>pre</td>\n",
       "      <td>2006.25</td>\n",
       "      <td>0.0</td>\n",
       "      <td>0.027453</td>\n",
       "    </tr>\n",
       "    <tr>\n",
       "      <td>3</td>\n",
       "      <td>AUTAUGA</td>\n",
       "      <td>4</td>\n",
       "      <td>AL</td>\n",
       "      <td>2006</td>\n",
       "      <td>pre</td>\n",
       "      <td>2006.33</td>\n",
       "      <td>0.0</td>\n",
       "      <td>0.026157</td>\n",
       "    </tr>\n",
       "    <tr>\n",
       "      <td>4</td>\n",
       "      <td>AUTAUGA</td>\n",
       "      <td>5</td>\n",
       "      <td>AL</td>\n",
       "      <td>2006</td>\n",
       "      <td>pre</td>\n",
       "      <td>2006.42</td>\n",
       "      <td>0.0</td>\n",
       "      <td>0.024269</td>\n",
       "    </tr>\n",
       "  </tbody>\n",
       "</table>\n",
       "</div>"
      ],
      "text/plain": [
       "    COUNTY Month STATE  Year pre_post Year_axis  policy_state  \\\n",
       "0  AUTAUGA     1    AL  2006      pre   2006.08           0.0   \n",
       "1  AUTAUGA     2    AL  2006      pre   2006.17           0.0   \n",
       "2  AUTAUGA     3    AL  2006      pre   2006.25           0.0   \n",
       "3  AUTAUGA     4    AL  2006      pre   2006.33           0.0   \n",
       "4  AUTAUGA     5    AL  2006      pre   2006.42           0.0   \n",
       "\n",
       "   opioids_per_capita  \n",
       "0            0.003699  \n",
       "1            0.021190  \n",
       "2            0.027453  \n",
       "3            0.026157  \n",
       "4            0.024269  "
      ]
     },
     "execution_count": 199,
     "metadata": {},
     "output_type": "execute_result"
    }
   ],
   "source": [
    "df_wash.head()"
   ]
  },
  {
   "cell_type": "code",
   "execution_count": null,
   "metadata": {},
   "outputs": [],
   "source": []
  }
 ],
 "metadata": {
  "kernelspec": {
   "display_name": "Python 3",
   "language": "python",
   "name": "python3"
  },
  "language_info": {
   "codemirror_mode": {
    "name": "ipython",
    "version": 3
   },
   "file_extension": ".py",
   "mimetype": "text/x-python",
   "name": "python",
   "nbconvert_exporter": "python",
   "pygments_lexer": "ipython3",
   "version": "3.7.3"
  }
 },
 "nbformat": 4,
 "nbformat_minor": 2
}
