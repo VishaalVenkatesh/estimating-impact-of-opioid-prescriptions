{
 "cells": [
  {
   "cell_type": "code",
   "execution_count": 130,
   "metadata": {},
   "outputs": [],
   "source": [
    "import pandas as pd\n",
    "import numpy as np"
   ]
  },
  {
   "cell_type": "code",
   "execution_count": 136,
   "metadata": {},
   "outputs": [],
   "source": [
    "df1 = pd.read_csv(\"Underlying Cause of Death, 2006.txt\",  delimiter=\"\\t\")\n",
    "df2 = pd.read_csv(\"Underlying Cause of Death, 2007.txt\",  delimiter=\"\\t\")\n",
    "df3 = pd.read_csv(\"Underlying Cause of Death, 2008.txt\",  delimiter=\"\\t\")\n",
    "df4 = pd.read_csv(\"Underlying Cause of Death, 2009.txt\",  delimiter=\"\\t\")\n",
    "df5 = pd.read_csv(\"Underlying Cause of Death, 2010.txt\",  delimiter=\"\\t\")\n",
    "df6 = pd.read_csv(\"Underlying Cause of Death, 2011.txt\",  delimiter=\"\\t\")\n",
    "df7 = pd.read_csv(\"Underlying Cause of Death, 2012.txt\",  delimiter=\"\\t\")\n",
    "df8 = pd.read_csv(\"Underlying Cause of Death, 2013.txt\",  delimiter=\"\\t\")\n",
    "df9 = pd.read_csv(\"Underlying Cause of Death, 2014.txt\",  delimiter=\"\\t\")\n",
    "df10 = pd.read_csv(\"Underlying Cause of Death, 2015.txt\",  delimiter=\"\\t\")"
   ]
  },
  {
   "cell_type": "code",
   "execution_count": 138,
   "metadata": {},
   "outputs": [],
   "source": [
    "df=[df1,df2,df3, df4, df5, df6, df7, df8, df9, df10]\n",
    "df_new=pd.concat(df)"
   ]
  },
  {
   "cell_type": "code",
   "execution_count": 139,
   "metadata": {},
   "outputs": [],
   "source": [
    "temp=df_new['County'].str.split(\",\",expand=True)\n",
    "df_new['County']=temp[0]\n",
    "df_new['State']=temp[1]"
   ]
  },
  {
   "cell_type": "code",
   "execution_count": 140,
   "metadata": {},
   "outputs": [
    {
     "data": {
      "text/plain": [
       "array(['All other non-drug and non-alcohol causes',\n",
       "       'Drug poisonings (overdose) Unintentional (X40-X44)',\n",
       "       'All other alcohol-induced causes',\n",
       "       'All other drug-induced causes',\n",
       "       'Drug poisonings (overdose) Undetermined (Y10-Y14)',\n",
       "       'Drug poisonings (overdose) Suicide (X60-X64)', nan,\n",
       "       'Alcohol poisonings (overdose) (X45, X65, Y15)',\n",
       "       'Drug poisonings (overdose) Homicide (X85)'], dtype=object)"
      ]
     },
     "execution_count": 140,
     "metadata": {},
     "output_type": "execute_result"
    }
   ],
   "source": [
    "df_new['Drug/Alcohol Induced Cause'].unique()"
   ]
  },
  {
   "cell_type": "code",
   "execution_count": 142,
   "metadata": {},
   "outputs": [],
   "source": [
    "df_death=df_new.loc[df_new['Drug/Alcohol Induced Cause'].isin(['Drug poisonings (overdose) Unintentional (X40-X44)', 'Drug poisonings (overdose) Undetermined (Y10-Y14)', 'Drug poisonings (overdose) Suicide (X60-X64)'])]"
   ]
  },
  {
   "cell_type": "code",
   "execution_count": 143,
   "metadata": {},
   "outputs": [],
   "source": [
    "columnsTitles = ['Notes', 'State', 'County', 'County Code', 'Year', 'Year Code',\n",
    "       'Drug/Alcohol Induced Cause', 'Drug/Alcohol Induced Cause Code',\n",
    "       'Deaths']\n",
    "\n",
    "df_death = df_death.reindex(columns=columnsTitles).copy()"
   ]
  },
  {
   "cell_type": "code",
   "execution_count": 148,
   "metadata": {},
   "outputs": [],
   "source": [
    "df_death=df_death.drop([\"Notes\", \"Year Code\", \"Drug/Alcohol Induced Cause Code\"],axis=1 )"
   ]
  },
  {
   "cell_type": "code",
   "execution_count": 151,
   "metadata": {},
   "outputs": [
    {
     "data": {
      "text/html": [
       "<div>\n",
       "<style scoped>\n",
       "    .dataframe tbody tr th:only-of-type {\n",
       "        vertical-align: middle;\n",
       "    }\n",
       "\n",
       "    .dataframe tbody tr th {\n",
       "        vertical-align: top;\n",
       "    }\n",
       "\n",
       "    .dataframe thead th {\n",
       "        text-align: right;\n",
       "    }\n",
       "</style>\n",
       "<table border=\"1\" class=\"dataframe\">\n",
       "  <thead>\n",
       "    <tr style=\"text-align: right;\">\n",
       "      <th></th>\n",
       "      <th>State</th>\n",
       "      <th>County</th>\n",
       "      <th>County Code</th>\n",
       "      <th>Year</th>\n",
       "      <th>Drug/Alcohol Induced Cause</th>\n",
       "      <th>Deaths</th>\n",
       "    </tr>\n",
       "  </thead>\n",
       "  <tbody>\n",
       "    <tr>\n",
       "      <td>1</td>\n",
       "      <td>AL</td>\n",
       "      <td>Baldwin County</td>\n",
       "      <td>1003.0</td>\n",
       "      <td>2006.0</td>\n",
       "      <td>Drug poisonings (overdose) Unintentional (X40-...</td>\n",
       "      <td>11</td>\n",
       "    </tr>\n",
       "    <tr>\n",
       "      <td>12</td>\n",
       "      <td>AL</td>\n",
       "      <td>Chilton County</td>\n",
       "      <td>1021.0</td>\n",
       "      <td>2006.0</td>\n",
       "      <td>Drug poisonings (overdose) Unintentional (X40-...</td>\n",
       "      <td>13</td>\n",
       "    </tr>\n",
       "    <tr>\n",
       "      <td>39</td>\n",
       "      <td>AL</td>\n",
       "      <td>Jefferson County</td>\n",
       "      <td>1073.0</td>\n",
       "      <td>2006.0</td>\n",
       "      <td>Drug poisonings (overdose) Unintentional (X40-...</td>\n",
       "      <td>55</td>\n",
       "    </tr>\n",
       "    <tr>\n",
       "      <td>55</td>\n",
       "      <td>AL</td>\n",
       "      <td>Mobile County</td>\n",
       "      <td>1097.0</td>\n",
       "      <td>2006.0</td>\n",
       "      <td>Drug poisonings (overdose) Unintentional (X40-...</td>\n",
       "      <td>23</td>\n",
       "    </tr>\n",
       "    <tr>\n",
       "      <td>56</td>\n",
       "      <td>AL</td>\n",
       "      <td>Mobile County</td>\n",
       "      <td>1097.0</td>\n",
       "      <td>2006.0</td>\n",
       "      <td>Drug poisonings (overdose) Undetermined (Y10-Y14)</td>\n",
       "      <td>10</td>\n",
       "    </tr>\n",
       "  </tbody>\n",
       "</table>\n",
       "</div>"
      ],
      "text/plain": [
       "   State            County  County Code    Year  \\\n",
       "1     AL    Baldwin County       1003.0  2006.0   \n",
       "12    AL    Chilton County       1021.0  2006.0   \n",
       "39    AL  Jefferson County       1073.0  2006.0   \n",
       "55    AL     Mobile County       1097.0  2006.0   \n",
       "56    AL     Mobile County       1097.0  2006.0   \n",
       "\n",
       "                           Drug/Alcohol Induced Cause Deaths  \n",
       "1   Drug poisonings (overdose) Unintentional (X40-...     11  \n",
       "12  Drug poisonings (overdose) Unintentional (X40-...     13  \n",
       "39  Drug poisonings (overdose) Unintentional (X40-...     55  \n",
       "55  Drug poisonings (overdose) Unintentional (X40-...     23  \n",
       "56  Drug poisonings (overdose) Undetermined (Y10-Y14)     10  "
      ]
     },
     "execution_count": 151,
     "metadata": {},
     "output_type": "execute_result"
    }
   ],
   "source": [
    "df_death.head()"
   ]
  },
  {
   "cell_type": "code",
   "execution_count": 167,
   "metadata": {},
   "outputs": [],
   "source": [
    "df_death['County Code']=df_death['County Code'].astype(int)\n",
    "df_death['Year']=df_death['Year'].astype(int)"
   ]
  },
  {
   "cell_type": "code",
   "execution_count": 170,
   "metadata": {},
   "outputs": [
    {
     "data": {
      "text/html": [
       "<div>\n",
       "<style scoped>\n",
       "    .dataframe tbody tr th:only-of-type {\n",
       "        vertical-align: middle;\n",
       "    }\n",
       "\n",
       "    .dataframe tbody tr th {\n",
       "        vertical-align: top;\n",
       "    }\n",
       "\n",
       "    .dataframe thead th {\n",
       "        text-align: right;\n",
       "    }\n",
       "</style>\n",
       "<table border=\"1\" class=\"dataframe\">\n",
       "  <thead>\n",
       "    <tr style=\"text-align: right;\">\n",
       "      <th></th>\n",
       "      <th>State</th>\n",
       "      <th>County</th>\n",
       "      <th>County Code</th>\n",
       "      <th>Year</th>\n",
       "      <th>Drug/Alcohol Induced Cause</th>\n",
       "      <th>Deaths</th>\n",
       "    </tr>\n",
       "  </thead>\n",
       "  <tbody>\n",
       "    <tr>\n",
       "      <td>1</td>\n",
       "      <td>AL</td>\n",
       "      <td>Baldwin County</td>\n",
       "      <td>1003</td>\n",
       "      <td>2006</td>\n",
       "      <td>Drug poisonings (overdose) Unintentional (X40-...</td>\n",
       "      <td>11</td>\n",
       "    </tr>\n",
       "    <tr>\n",
       "      <td>12</td>\n",
       "      <td>AL</td>\n",
       "      <td>Chilton County</td>\n",
       "      <td>1021</td>\n",
       "      <td>2006</td>\n",
       "      <td>Drug poisonings (overdose) Unintentional (X40-...</td>\n",
       "      <td>13</td>\n",
       "    </tr>\n",
       "    <tr>\n",
       "      <td>39</td>\n",
       "      <td>AL</td>\n",
       "      <td>Jefferson County</td>\n",
       "      <td>1073</td>\n",
       "      <td>2006</td>\n",
       "      <td>Drug poisonings (overdose) Unintentional (X40-...</td>\n",
       "      <td>55</td>\n",
       "    </tr>\n",
       "    <tr>\n",
       "      <td>55</td>\n",
       "      <td>AL</td>\n",
       "      <td>Mobile County</td>\n",
       "      <td>1097</td>\n",
       "      <td>2006</td>\n",
       "      <td>Drug poisonings (overdose) Unintentional (X40-...</td>\n",
       "      <td>23</td>\n",
       "    </tr>\n",
       "    <tr>\n",
       "      <td>56</td>\n",
       "      <td>AL</td>\n",
       "      <td>Mobile County</td>\n",
       "      <td>1097</td>\n",
       "      <td>2006</td>\n",
       "      <td>Drug poisonings (overdose) Undetermined (Y10-Y14)</td>\n",
       "      <td>10</td>\n",
       "    </tr>\n",
       "  </tbody>\n",
       "</table>\n",
       "</div>"
      ],
      "text/plain": [
       "   State            County  County Code  Year  \\\n",
       "1     AL    Baldwin County         1003  2006   \n",
       "12    AL    Chilton County         1021  2006   \n",
       "39    AL  Jefferson County         1073  2006   \n",
       "55    AL     Mobile County         1097  2006   \n",
       "56    AL     Mobile County         1097  2006   \n",
       "\n",
       "                           Drug/Alcohol Induced Cause Deaths  \n",
       "1   Drug poisonings (overdose) Unintentional (X40-...     11  \n",
       "12  Drug poisonings (overdose) Unintentional (X40-...     13  \n",
       "39  Drug poisonings (overdose) Unintentional (X40-...     55  \n",
       "55  Drug poisonings (overdose) Unintentional (X40-...     23  \n",
       "56  Drug poisonings (overdose) Undetermined (Y10-Y14)     10  "
      ]
     },
     "execution_count": 170,
     "metadata": {},
     "output_type": "execute_result"
    }
   ],
   "source": [
    "df_death.head()"
   ]
  },
  {
   "cell_type": "code",
   "execution_count": null,
   "metadata": {},
   "outputs": [],
   "source": []
  },
  {
   "cell_type": "code",
   "execution_count": null,
   "metadata": {},
   "outputs": [],
   "source": []
  },
  {
   "cell_type": "code",
   "execution_count": null,
   "metadata": {},
   "outputs": [],
   "source": []
  }
 ],
 "metadata": {
  "kernelspec": {
   "display_name": "Python 3",
   "language": "python",
   "name": "python3"
  },
  "language_info": {
   "codemirror_mode": {
    "name": "ipython",
    "version": 3
   },
   "file_extension": ".py",
   "mimetype": "text/x-python",
   "name": "python",
   "nbconvert_exporter": "python",
   "pygments_lexer": "ipython3",
   "version": "3.7.3"
  }
 },
 "nbformat": 4,
 "nbformat_minor": 2
}
