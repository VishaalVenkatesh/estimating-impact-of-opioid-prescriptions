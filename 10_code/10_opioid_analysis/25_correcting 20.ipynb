{
 "cells": [
  {
   "cell_type": "code",
   "execution_count": 20,
   "metadata": {},
   "outputs": [],
   "source": [
    "import pandas as pd\n",
    "import numpy as np\n",
    "\n",
    "states =  [\"AL\", \"AK\",  \"AR\", \"CA\", \"CO\", \"CT\", \"DC\", \"DE\", \"FL\", \"GA\", \n",
    "           \"HI\", \"ID\", \"IL\", \"IN\", \"IA\", \"KS\", \"KY\", \"LA\", \"ME\", \"MD\", \n",
    "           \"MA\", \"MI\", \"MN\", \"MS\", \"MO\", \"MT\", \"NE\", \"NV\", \"NH\", \"NJ\", \n",
    "           \"NM\", \"NY\", \"NC\", \"ND\", \"OH\", \"OK\", \"OR\", \"PA\", \"RI\", \"SC\", \n",
    "           \"SD\", \"TN\", \"TX\", \"UT\", \"VT\", \"VA\", \"WA\", \"WV\", \"WI\", \"WY\"]"
   ]
  },
  {
   "cell_type": "code",
   "execution_count": 21,
   "metadata": {},
   "outputs": [],
   "source": [
    "#Dataset prep for Florida\n",
    "for state in states:  \n",
    "    df = pd.read_pickle(\"/Users/abhirajvinnakota/Desktop/Project/new_data/abhiraj_data/\"+ state + \".pkl\") #reading state level data for opioids\n",
    "    df[\"TRANSACTION_DATE\"] = pd.to_datetime(df[\"TRANSACTION_DATE\"], format = \"%m%d%Y\") #converting to datetime format\n",
    "    df[\"Year\"] = df[\"TRANSACTION_DATE\"].dt.year #extracting year\n",
    "    df['opioids'] = df['CALC_BASE_WT_IN_GM'] * df['MME_Conversion_Factor']\n",
    "    df = df.reset_index() #reseting indicies\n",
    "    df = df.drop(['CALC_BASE_WT_IN_GM','TRANSACTION_DATE','DRUG_NAME','MME_Conversion_Factor','index'], axis = 1) #dropping columns \n",
    "    df = df.rename({\"BUYER_STATE\":\"STATE\",\"BUYER_COUNTY\":\"COUNTY\"}, axis=1) #renaming columns \n",
    "    df = df.groupby(['STATE','COUNTY','Year'],as_index=False).sum() #summing opioids at a yearly level\n",
    "    pd.to_pickle(df,'/Users/abhirajvinnakota/Desktop/estimating-impact-of-opioid-prescription-regulations-team-6/20_intermediate_files/10_opioids_analysis/20_state_level_data_from_20/florida/'+state+'.pkl' ) #writing to disk\n",
    "\n"
   ]
  },
  {
   "cell_type": "code",
   "execution_count": 27,
   "metadata": {},
   "outputs": [],
   "source": [
    "#Dataset prep for Texas & Washington\n",
    "for state in states:  \n",
    "    df = pd.read_pickle(\"/Users/abhirajvinnakota/Desktop/Project/new_data/abhiraj_data/\"+ state + \".pkl\") #reading state level data for opioids\n",
    "    df[\"TRANSACTION_DATE\"] = pd.to_datetime(df[\"TRANSACTION_DATE\"], format = \"%m%d%Y\") #converting to datetime format\n",
    "    df[\"Year\"] = df[\"TRANSACTION_DATE\"].dt.year #extracting year\n",
    "    df[\"Month\"] = df[\"TRANSACTION_DATE\"].dt.month #extracting month\n",
    "    df['opioids'] = df['CALC_BASE_WT_IN_GM'] * df['MME_Conversion_Factor']\n",
    "    df = df.reset_index() #reseting indicies\n",
    "    df = df.drop(['CALC_BASE_WT_IN_GM','TRANSACTION_DATE','DRUG_NAME','MME_Conversion_Factor','index'], axis = 1) #dropping columns \n",
    "    df = df.rename({\"BUYER_STATE\":\"STATE\",\"BUYER_COUNTY\":\"COUNTY\"}, axis=1) #renaming columns \n",
    "    df = df.groupby(['STATE','COUNTY','Year','Month'],as_index=False).sum() #summing opioids at a yearly level\n",
    "    df.head()\n",
    "    pd.to_pickle(df,'/Users/abhirajvinnakota/Desktop/estimating-impact-of-opioid-prescription-regulations-team-6/20_intermediate_files/10_opioids_analysis/20_state_level_data_from_20/texas_wash/'+state+'.pkl' ) #writing to disk\n"
   ]
  }
 ],
 "metadata": {
  "kernelspec": {
   "display_name": "Python 3",
   "language": "python",
   "name": "python3"
  },
  "language_info": {
   "codemirror_mode": {
    "name": "ipython",
    "version": 3
   },
   "file_extension": ".py",
   "mimetype": "text/x-python",
   "name": "python",
   "nbconvert_exporter": "python",
   "pygments_lexer": "ipython3",
   "version": "3.7.3"
  }
 },
 "nbformat": 4,
 "nbformat_minor": 2
}
