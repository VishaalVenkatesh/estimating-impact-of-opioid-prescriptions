{
 "cells": [
  {
   "cell_type": "code",
   "execution_count": 1,
   "metadata": {},
   "outputs": [],
   "source": [
    "import pandas as pd\n",
    "import numpy as np\n",
    "from dask import dataframe as dd"
   ]
  },
  {
   "cell_type": "code",
   "execution_count": 2,
   "metadata": {},
   "outputs": [
    {
     "name": "stderr",
     "output_type": "stream",
     "text": [
      "C:\\Users\\Vishaal\\Anaconda3_Mod\\lib\\site-packages\\IPython\\core\\interactiveshell.py:3057: DtypeWarning: Columns (30,31) have mixed types. Specify dtype option on import or set low_memory=False.\n",
      "  interactivity=interactivity, compiler=compiler, result=result)\n"
     ]
    }
   ],
   "source": [
    "#I read the data. When rerunning it, include DRUG_NAME in the col names. I excluded it by mistake. \n",
    "#\\t because the file is a tab-separated-file.\n",
    "df_cols = pd.read_csv('D://Data//arcos_all.tsv//arcos_all.tsv', delimiter='\\t', usecols=['BUYER_STATE','BUYER_COUNTY','TRANSACTION_DATE','CALC_BASE_WT_IN_GM','MME_Conversion_Factor','DRUG_NAME'], encoding='utf-8')"
   ]
  },
  {
   "cell_type": "code",
   "execution_count": 3,
   "metadata": {},
   "outputs": [],
   "source": [
    "#Let's now strip the original dataframe to just contain Oxycodone and Hydrocodone.\n",
    "chunksize = 100000\n",
    "chunksize1 = 0\n",
    "chunksize2 = 100000\n",
    "l = []#Empty list to get indices of rows where drug is Oxycodone or Hydrocodone\n",
    "for i in range (df_cols.shape[0]%chunksize):\n",
    "    df = df_cols.iloc[chunksize1:chunksize2]\n",
    "    l.append(df.index[(df['DRUG_NAME']=='OXYCODONE') | (df['DRUG_NAME']=='HYDROCODONE')])\n",
    "    chunksize1 = chunksize1 + 100000\n",
    "    chunksize2 = chunksize2 + 100000\n",
    "    \n",
    "#index_drugs = df_cols.index[(df_cols['DRUG_NAME']=='OXYCODONE') | (df_cols['DRUG_NAME']=='HYDROCODONE')]\n",
    "\n",
    "#c[c['DRUG_NAME']=='OXYCODONE']\n",
    "#df_cols_drug_f = df_cols[(df_cols['DRUG_NAME']=='OXYCODONE') | (df_cols['DRUG_NAME']=='HYDROCODONE')]\n",
    "#df_cols.to_pickle('D://Data//arcos_all.tsv//initialise.pkl')"
   ]
  },
  {
   "cell_type": "code",
   "execution_count": 4,
   "metadata": {},
   "outputs": [
    {
     "data": {
      "text/plain": [
       "133823012"
      ]
     },
     "execution_count": 4,
     "metadata": {},
     "output_type": "execute_result"
    }
   ],
   "source": [
    "#How many rows do we have now?\n",
    "s = 0\n",
    "for i in range (len(l)):\n",
    "    s = s + len(l[i])\n",
    "    \n",
    "s\n",
    "#About 133 M. This is 75% or original dataframe. This matches with the prompt."
   ]
  },
  {
   "cell_type": "code",
   "execution_count": 7,
   "metadata": {
    "scrolled": true
   },
   "outputs": [],
   "source": [
    "#Let's now subset for a specific state.\n",
    "\n",
    "def sub_state_index(state):\n",
    "    \n",
    "    chunksize = 100000\n",
    "    chunksize1 = 0\n",
    "    chunksize2 = 100000\n",
    "    m = []#Empty list to get indices of rows of a particular state\n",
    "    df_cols_state = pd.DataFrame()\n",
    "    for i in range (df_cols.shape[0]%chunksize):\n",
    "        df_1 = df_cols.iloc[chunksize1:chunksize2]\n",
    "        m.append(df_1.index[((df_1['BUYER_STATE']==state) & ((df_1['DRUG_NAME']=='OXYCODONE') | (df_1['DRUG_NAME']=='HYDROCODONE')))])\n",
    "        chunksize1 = chunksize1 + 100000\n",
    "        chunksize2 = chunksize2 + 100000\n",
    "    return (m)"
   ]
  },
  {
   "cell_type": "code",
   "execution_count": 8,
   "metadata": {},
   "outputs": [],
   "source": [
    "#Using the index function (sub_state_index), we can get a list of dataframes containing the rows for that particular state.\n",
    "#We then need to pf.concat the list to get a single dataframe for that state.\n",
    "def sub_state(state_index):\n",
    "    chunksize = 100000\n",
    "    chunksize1 = 0\n",
    "    chunksize2 = 100000\n",
    "    n = []#Empty list to store rows...\n",
    "    for i in range (len(state_index)):\n",
    "        df_2 = df_cols.iloc[chunksize1:chunksize2]\n",
    "        n.append(df_2[df_2.index.isin(state_index[i])])\n",
    "        chunksize1 = chunksize1 + 100000\n",
    "        chunksize2 = chunksize2 + 100000\n",
    "    return(n)"
   ]
  },
  {
   "cell_type": "code",
   "execution_count": null,
   "metadata": {},
   "outputs": [],
   "source": [
    "#I test if my functions are working for the state of Florida\n",
    "#Creating a list of indices for the state of Florida\n",
    "fl_index = sub_state_index('FL') \n"
   ]
  },
  {
   "cell_type": "code",
   "execution_count": null,
   "metadata": {},
   "outputs": [],
   "source": [
    "#Creating a list of dataframes for the state of Florida\n",
    "fl_state = sub_state(fl_index)"
   ]
  },
  {
   "cell_type": "code",
   "execution_count": null,
   "metadata": {},
   "outputs": [],
   "source": [
    "#Single dataframe for all of florida. We need the above 3 different steps to minimise computational time\n",
    "df_fl = pd.concat(fl_state)\n",
    "#All the functions are working!"
   ]
  },
  {
   "cell_type": "code",
   "execution_count": 40,
   "metadata": {},
   "outputs": [],
   "source": [
    "#In the next step I will create a separate dataframe for each state. All the dataframes will be pickled for ease of access next time.\n",
    "#Also AZ seems to crash the thing.\n",
    "states =  [\"AL\", \"AK\",  \"AR\", \"CA\", \"CO\", \"CT\", \"DC\", \"DE\", \"FL\", \"GA\", \n",
    "          \"HI\", \"ID\", \"IL\", \"IN\", \"IA\", \"KS\", \"KY\", \"LA\", \"ME\", \"MD\", \n",
    "          \"MA\", \"MI\", \"MN\", \"MS\", \"MO\", \"MT\", \"NE\", \"NV\", \"NH\", \"NJ\", \n",
    "          \"NM\", \"NY\", \"NC\", \"ND\", \"OH\", \"OK\", \"OR\", \"PA\", \"RI\", \"SC\", \n",
    "          \"SD\", \"TN\", \"TX\", \"UT\", \"VT\", \"VA\", \"WA\", \"WV\", \"WI\", \"WY\"]\n",
    "\n",
    "for state in states:\n",
    "         pd.to_pickle((pd.concat(sub_state(sub_state_index(state)))),'D://Data//arcos_all.tsv//'+str(state)+'.pkl' )\n",
    "        \n",
    "    "
   ]
  },
  {
   "cell_type": "code",
   "execution_count": null,
   "metadata": {
    "scrolled": true
   },
   "outputs": [],
   "source": []
  },
  {
   "cell_type": "code",
   "execution_count": null,
   "metadata": {},
   "outputs": [],
   "source": []
  },
  {
   "cell_type": "code",
   "execution_count": null,
   "metadata": {},
   "outputs": [],
   "source": []
  }
 ],
 "metadata": {
  "kernelspec": {
   "display_name": "Python 3",
   "language": "python",
   "name": "python3"
  },
  "language_info": {
   "codemirror_mode": {
    "name": "ipython",
    "version": 3
   },
   "file_extension": ".py",
   "mimetype": "text/x-python",
   "name": "python",
   "nbconvert_exporter": "python",
   "pygments_lexer": "ipython3",
   "version": "3.7.3"
  }
 },
 "nbformat": 4,
 "nbformat_minor": 2
}
